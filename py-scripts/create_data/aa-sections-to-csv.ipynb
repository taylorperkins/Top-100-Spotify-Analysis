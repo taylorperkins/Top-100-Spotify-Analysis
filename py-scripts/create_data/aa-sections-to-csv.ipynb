{
 "cells": [
  {
   "cell_type": "code",
   "execution_count": 1,
   "metadata": {},
   "outputs": [],
   "source": [
    "import os\n",
    "\n",
    "import json \n",
    "import csv"
   ]
  },
  {
   "cell_type": "code",
   "execution_count": 2,
   "metadata": {},
   "outputs": [
    {
     "data": {
      "text/plain": [
       "5780"
      ]
     },
     "execution_count": 2,
     "metadata": {},
     "output_type": "execute_result"
    }
   ],
   "source": [
    "sections_files = os.listdir('../audio_analysis/sections/')\n",
    "len(sections_files)"
   ]
  },
  {
   "cell_type": "code",
   "execution_count": 3,
   "metadata": {},
   "outputs": [],
   "source": [
    "sections_f = open('../audio_analysis/sections/{}'.format(sections_files[0]))\n",
    "sections_content = json.loads(sections_f.read())"
   ]
  },
  {
   "cell_type": "code",
   "execution_count": 4,
   "metadata": {},
   "outputs": [
    {
     "data": {
      "text/plain": [
       "[{'confidence': 1.0,\n",
       "  'duration': 8.54785,\n",
       "  'key': 7,\n",
       "  'key_confidence': 0.49,\n",
       "  'loudness': -19.71,\n",
       "  'mode': 1,\n",
       "  'mode_confidence': 0.559,\n",
       "  'start': 0.0,\n",
       "  'tempo': 80.798,\n",
       "  'tempo_confidence': 0.538,\n",
       "  'time_signature': 3,\n",
       "  'time_signature_confidence': 1.0},\n",
       " {'confidence': 0.219,\n",
       "  'duration': 11.24496,\n",
       "  'key': 10,\n",
       "  'key_confidence': 0.402,\n",
       "  'loudness': -16.623,\n",
       "  'mode': 1,\n",
       "  'mode_confidence': 0.333,\n",
       "  'start': 8.54785,\n",
       "  'tempo': 80.087,\n",
       "  'tempo_confidence': 0.663,\n",
       "  'time_signature': 3,\n",
       "  'time_signature_confidence': 1.0},\n",
       " {'confidence': 0.243,\n",
       "  'duration': 24.00211,\n",
       "  'key': 9,\n",
       "  'key_confidence': 0.466,\n",
       "  'loudness': -11.864,\n",
       "  'mode': 0,\n",
       "  'mode_confidence': 0.52,\n",
       "  'start': 19.79281,\n",
       "  'tempo': 80.005,\n",
       "  'tempo_confidence': 0.308,\n",
       "  'time_signature': 3,\n",
       "  'time_signature_confidence': 0.857},\n",
       " {'confidence': 0.589,\n",
       "  'duration': 62.23652,\n",
       "  'key': 7,\n",
       "  'key_confidence': 0.153,\n",
       "  'loudness': -4.959,\n",
       "  'mode': 1,\n",
       "  'mode_confidence': 0.541,\n",
       "  'start': 43.79492,\n",
       "  'tempo': 80.023,\n",
       "  'tempo_confidence': 0.473,\n",
       "  'time_signature': 4,\n",
       "  'time_signature_confidence': 0.988},\n",
       " {'confidence': 0.687,\n",
       "  'duration': 73.56779,\n",
       "  'key': 7,\n",
       "  'key_confidence': 0.22,\n",
       "  'loudness': -4.067,\n",
       "  'mode': 1,\n",
       "  'mode_confidence': 0.472,\n",
       "  'start': 106.03144,\n",
       "  'tempo': 79.992,\n",
       "  'tempo_confidence': 0.422,\n",
       "  'time_signature': 4,\n",
       "  'time_signature_confidence': 1.0},\n",
       " {'confidence': 0.207,\n",
       "  'duration': 14.40234,\n",
       "  'key': 0,\n",
       "  'key_confidence': 0.0,\n",
       "  'loudness': -3.609,\n",
       "  'mode': 1,\n",
       "  'mode_confidence': 0.0,\n",
       "  'start': 179.59923,\n",
       "  'tempo': 78.567,\n",
       "  'tempo_confidence': 0.12,\n",
       "  'time_signature': 4,\n",
       "  'time_signature_confidence': 1.0},\n",
       " {'confidence': 0.53,\n",
       "  'duration': 12.80967,\n",
       "  'key': 9,\n",
       "  'key_confidence': 0.073,\n",
       "  'loudness': -9.351,\n",
       "  'mode': 0,\n",
       "  'mode_confidence': 0.294,\n",
       "  'start': 194.00157,\n",
       "  'tempo': 81.854,\n",
       "  'tempo_confidence': 0.438,\n",
       "  'time_signature': 4,\n",
       "  'time_signature_confidence': 0.692},\n",
       " {'confidence': 0.555,\n",
       "  'duration': 29.60625,\n",
       "  'key': 7,\n",
       "  'key_confidence': 0.789,\n",
       "  'loudness': -3.209,\n",
       "  'mode': 1,\n",
       "  'mode_confidence': 0.774,\n",
       "  'start': 206.81124,\n",
       "  'tempo': 79.871,\n",
       "  'tempo_confidence': 0.171,\n",
       "  'time_signature': 4,\n",
       "  'time_signature_confidence': 0.853},\n",
       " {'confidence': 0.5,\n",
       "  'duration': 17.22251,\n",
       "  'key': 7,\n",
       "  'key_confidence': 0.199,\n",
       "  'loudness': -5.829,\n",
       "  'mode': 1,\n",
       "  'mode_confidence': 0.527,\n",
       "  'start': 236.41749,\n",
       "  'tempo': 81.897,\n",
       "  'tempo_confidence': 0.108,\n",
       "  'time_signature': 3,\n",
       "  'time_signature_confidence': 0.4}]"
      ]
     },
     "execution_count": 4,
     "metadata": {},
     "output_type": "execute_result"
    }
   ],
   "source": [
    "sections_content"
   ]
  },
  {
   "cell_type": "code",
   "execution_count": 5,
   "metadata": {},
   "outputs": [],
   "source": [
    "wrong_sections_type = list()\n",
    "full_sections = list()"
   ]
  },
  {
   "cell_type": "code",
   "execution_count": 6,
   "metadata": {},
   "outputs": [
    {
     "name": "stdout",
     "output_type": "stream",
     "text": [
      "0\n",
      "50\n",
      "100\n",
      "150\n",
      "200\n",
      "250\n",
      "300\n",
      "350\n",
      "400\n",
      "450\n",
      "500\n",
      "550\n",
      "600\n",
      "650\n",
      "700\n",
      "750\n",
      "800\n",
      "850\n",
      "900\n",
      "950\n",
      "1000\n",
      "1050\n",
      "1100\n",
      "1150\n",
      "1200\n",
      "1250\n",
      "1300\n",
      "1350\n",
      "1400\n",
      "1450\n",
      "1500\n",
      "1550\n",
      "1600\n",
      "1650\n",
      "1700\n",
      "1750\n",
      "1800\n",
      "1850\n",
      "1900\n",
      "1950\n",
      "2000\n",
      "2050\n",
      "2100\n",
      "2150\n",
      "2200\n",
      "2250\n",
      "2300\n",
      "2350\n",
      "2400\n",
      "2450\n",
      "2500\n",
      "2550\n",
      "2600\n",
      "2650\n",
      "2700\n",
      "2750\n",
      "2800\n",
      "2850\n",
      "2900\n",
      "2950\n",
      "3000\n",
      "3050\n",
      "3100\n",
      "3150\n",
      "3200\n",
      "3250\n",
      "3300\n",
      "3350\n",
      "3400\n",
      "3450\n",
      "3500\n",
      "3550\n",
      "3600\n",
      "3650\n",
      "3700\n",
      "3750\n",
      "3800\n",
      "3850\n",
      "3900\n",
      "3950\n",
      "4000\n",
      "4050\n",
      "4100\n",
      "4150\n",
      "4200\n",
      "4250\n",
      "4300\n",
      "4350\n",
      "4400\n",
      "4450\n",
      "4500\n",
      "4550\n",
      "4600\n",
      "4650\n",
      "4700\n",
      "4750\n",
      "4800\n",
      "4850\n",
      "4900\n",
      "4950\n",
      "5000\n",
      "5050\n",
      "5100\n",
      "5150\n",
      "5200\n",
      "5250\n",
      "5300\n",
      "5350\n",
      "5400\n",
      "5450\n",
      "5500\n",
      "5550\n",
      "5600\n",
      "5650\n",
      "5700\n",
      "5750\n"
     ]
    }
   ],
   "source": [
    "for ind, sections_file in enumerate(sections_files):\n",
    "    song_id = sections_file.split(\".\")[0]\n",
    "    \n",
    "    if ind % 50 == 0:\n",
    "        print(ind)\n",
    "    \n",
    "    section_f = open('../audio_analysis/sections/{}'.format(sections_file))\n",
    "    section_content = json.loads(section_f.read())\n",
    "    section_f.close()\n",
    "    \n",
    "    if isinstance(section_content, list):\n",
    "        for section in section_content:\n",
    "            section['id'] = song_id\n",
    "    else:\n",
    "        wrong_sections_type.append(sections_file)\n",
    "        \n",
    "    full_sections.extend(section_content)"
   ]
  },
  {
   "cell_type": "code",
   "execution_count": 7,
   "metadata": {},
   "outputs": [
    {
     "data": {
      "text/plain": [
       "[]"
      ]
     },
     "execution_count": 7,
     "metadata": {},
     "output_type": "execute_result"
    }
   ],
   "source": [
    "wrong_sections_type"
   ]
  },
  {
   "cell_type": "code",
   "execution_count": 8,
   "metadata": {},
   "outputs": [
    {
     "data": {
      "text/plain": [
       "{'confidence': 1.0,\n",
       " 'duration': 8.54785,\n",
       " 'id': '003VWU5LKbDkXTqpLQuID1',\n",
       " 'key': 7,\n",
       " 'key_confidence': 0.49,\n",
       " 'loudness': -19.71,\n",
       " 'mode': 1,\n",
       " 'mode_confidence': 0.559,\n",
       " 'start': 0.0,\n",
       " 'tempo': 80.798,\n",
       " 'tempo_confidence': 0.538,\n",
       " 'time_signature': 3,\n",
       " 'time_signature_confidence': 1.0}"
      ]
     },
     "execution_count": 8,
     "metadata": {},
     "output_type": "execute_result"
    }
   ],
   "source": [
    "full_sections[0]"
   ]
  },
  {
   "cell_type": "code",
   "execution_count": 9,
   "metadata": {},
   "outputs": [],
   "source": [
    "with open('../audio_analysis/sections.csv', 'w') as csvfile:\n",
    "    fieldnames = [\n",
    "        'id', \n",
    "        'confidence', \n",
    "        'start', \n",
    "        'duration', \n",
    "        'key', \n",
    "        'key_confidence', \n",
    "        'loudness', \n",
    "        'mode', \n",
    "        'mode_confidence', \n",
    "        'tempo', \n",
    "        'tempo_confidence', \n",
    "        'time_signature', \n",
    "        'time_signature_confidence'\n",
    "    ]\n",
    "    \n",
    "    writer = csv.DictWriter(csvfile, fieldnames=fieldnames)\n",
    "\n",
    "    writer.writeheader()\n",
    "    writer.writerows(full_sections)\n",
    "    \n",
    "    csvfile.close()"
   ]
  }
 ],
 "metadata": {
  "kernelspec": {
   "display_name": "Python 3",
   "language": "python",
   "name": "python3"
  },
  "language_info": {
   "codemirror_mode": {
    "name": "ipython",
    "version": 3
   },
   "file_extension": ".py",
   "mimetype": "text/x-python",
   "name": "python",
   "nbconvert_exporter": "python",
   "pygments_lexer": "ipython3",
   "version": "3.6.4"
  }
 },
 "nbformat": 4,
 "nbformat_minor": 2
}
