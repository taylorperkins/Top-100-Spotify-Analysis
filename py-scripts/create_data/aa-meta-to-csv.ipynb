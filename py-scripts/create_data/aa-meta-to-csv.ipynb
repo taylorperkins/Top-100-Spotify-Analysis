{
 "cells": [
  {
   "cell_type": "code",
   "execution_count": 1,
   "metadata": {},
   "outputs": [],
   "source": [
    "import os\n",
    "import json\n",
    "import csv"
   ]
  },
  {
   "cell_type": "code",
   "execution_count": 2,
   "metadata": {},
   "outputs": [
    {
     "data": {
      "text/plain": [
       "5780"
      ]
     },
     "execution_count": 2,
     "metadata": {},
     "output_type": "execute_result"
    }
   ],
   "source": [
    "meta_files = os.listdir('../audio_analysis/meta/')\n",
    "len(meta_files)"
   ]
  },
  {
   "cell_type": "code",
   "execution_count": 3,
   "metadata": {},
   "outputs": [],
   "source": [
    "meta_f = open('../audio_analysis/meta/{}'.format(meta_files[0]))\n",
    "meta_content = json.loads(meta_f.read())"
   ]
  },
  {
   "cell_type": "code",
   "execution_count": 4,
   "metadata": {},
   "outputs": [
    {
     "data": {
      "text/plain": [
       "{'analysis_time': 10.70244,\n",
       " 'analyzer_version': '4.0.0',\n",
       " 'detailed_status': 'OK',\n",
       " 'input_process': 'libvorbisfile L+R 44100->22050',\n",
       " 'platform': 'Linux',\n",
       " 'status_code': 0,\n",
       " 'timestamp': 1444794210}"
      ]
     },
     "execution_count": 4,
     "metadata": {},
     "output_type": "execute_result"
    }
   ],
   "source": [
    "meta_content"
   ]
  },
  {
   "cell_type": "markdown",
   "metadata": {},
   "source": [
    ">I don't think I will really be using the meta for anything, so I am going to skip the process of organizing it."
   ]
  },
  {
   "cell_type": "code",
   "execution_count": null,
   "metadata": {},
   "outputs": [],
   "source": []
  }
 ],
 "metadata": {
  "kernelspec": {
   "display_name": "Python 3",
   "language": "python",
   "name": "python3"
  },
  "language_info": {
   "codemirror_mode": {
    "name": "ipython",
    "version": 3
   },
   "file_extension": ".py",
   "mimetype": "text/x-python",
   "name": "python",
   "nbconvert_exporter": "python",
   "pygments_lexer": "ipython3",
   "version": "3.6.4"
  }
 },
 "nbformat": 4,
 "nbformat_minor": 2
}
